{
 "cells": [
  {
   "cell_type": "code",
   "execution_count": 15,
   "metadata": {},
   "outputs": [
    {
     "name": "stdout",
     "output_type": "stream",
     "text": [
      "Hello world :D\n"
     ]
    }
   ],
   "source": [
    "print (\"Hello world :D\")\n",
    "\n",
    "# from datetime import datetime, timedelta\n",
    "\n",
    "# data_nascimento = input(\"Informe sua data de nascimento (DD/MM/AAAA): \")\n",
    "# data_nascimento = datetime.strptime(data_nascimento, \"%d/%m/%Y\")\n",
    "\n",
    "# data_atual =input(\"Informe a data atual (DD/MM/AAAA): \")\n",
    "# data_atual = datetime.strptime(data_atual, \"%d/%m/%Y\")\n",
    "\n",
    "# idade_futura = data_atual.year - data_nascimento.year + 11\n",
    "\n",
    "# print(\"Essa será sua idade daqui a 11 anos:\", idade_futura)\n",
    "\n",
    "\n",
    "# num = int (input (\"Digite um num\"))\n",
    "# print (num + num)\n",
    "\n",
    "# while True:\n",
    "#     print (num)\n",
    "\n",
    "\n",
    "# def funcao(x, y, z =10):\n",
    "#     return x[1] + y + z\n",
    "# lista = [7,9,20,50]\n",
    "# print (funcao(lista, lista[-1]))\n",
    "\n",
    "\n",
    "# x = 9 > 0\n",
    "# print (type(x))\n",
    "\n",
    "\n",
    "# def funcao (x, y, z):\n",
    "#     a = x*y+z\n",
    "#     b=x+y\n",
    "#     return[a,b]\n",
    "\n",
    "\n",
    "#print (not(5>6 or 7 ==9 or 9<0))\n"
   ]
  }
 ],
 "metadata": {
  "kernelspec": {
   "display_name": "Python 3",
   "language": "python",
   "name": "python3"
  },
  "language_info": {
   "codemirror_mode": {
    "name": "ipython",
    "version": 3
   },
   "file_extension": ".py",
   "mimetype": "text/x-python",
   "name": "python",
   "nbconvert_exporter": "python",
   "pygments_lexer": "ipython3",
   "version": "3.11.4"
  }
 },
 "nbformat": 4,
 "nbformat_minor": 2
}
